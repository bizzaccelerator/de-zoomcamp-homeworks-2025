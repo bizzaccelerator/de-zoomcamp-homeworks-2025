{
 "cells": [
  {
   "cell_type": "markdown",
   "metadata": {},
   "source": [
    "Hey, I'm Jobert Gutierrez and hereafter you'll find the logic and code used to answer the third assignment in the program Data Engineering Zoomcamp offered by Data Talks Club."
   ]
  },
  {
   "cell_type": "markdown",
   "metadata": {},
   "source": [
    "# __Module 3 Homework: Data Warehousing__\n",
    "\n",
    "ATTENTION: At the end of the submission form, you will be required to include a link to your GitHub repository or other public code-hosting site. This repository should contain your code for solving the homework. If your solution includes code that is not in file format (such as SQL queries or shell commands), please include these directly in the README file of your repository.\n",
    "\n",
    "__Important Note:__\n",
    "\n",
    "For this homework we will be using the Yellow Taxi Trip Records for January 2024 - June 2024 NOT the entire year of data Parquet Files from the New York City Taxi Data found here:\n",
    "\n",
    "`https://www.nyc.gov/site/tlc/about/tlc-trip-record-data.page`\n",
    "\n",
    "If you are using orchestration such as Kestra, Mage, Airflow or Prefect etc. do not load the data into Big Query using the orchestrator.\n",
    "Stop with loading the files into a bucket.\n",
    "\n",
    "Load Script: You can manually download the parquet files and upload them to your GCS Bucket or you can use the linked script [here](https://github.com/DataTalksClub/data-engineering-zoomcamp/blob/main/cohorts/2025/03-data-warehouse/load_yellow_taxi_data.py):\n",
    "\n",
    "You will simply need to generate a Service Account with GCS Admin Priveleges or be authenticated with the Google SDK and update the bucket name in the script to the name of your bucket\n",
    "Nothing is fool proof so make sure that all 6 files show in your GCS Bucket before begining.\n",
    "\n",
    "\n",
    "NOTE: You will need to use the PARQUET option files when creating an External Table\n",
    "\n",
    "__BIG QUERY SETUP:__\n",
    "\n",
    "Create an external table using the Yellow Taxi Trip Records.\n",
    "Create a (regular/materialized) table in BQ using the Yellow Taxi Trip Records (do not partition or cluster this table).\n",
    "\n",
    "### __Question 1.__\n",
    "\n",
    "Question 1: What is count of records for the 2024 Yellow Taxi Data?\n",
    "\n",
    "--65,623 <br>\n",
    "--840,402 <br>\n",
    "--20,332,093 <br>\n",
    "--85,431,289 <br>\n"
   ]
  },
  {
   "cell_type": "markdown",
   "metadata": {},
   "source": [
    "### Answer: \n",
    "I created the tables in BigQuery using the following commands:"
   ]
  },
  {
   "cell_type": "code",
   "execution_count": null,
   "metadata": {},
   "outputs": [],
   "source": [
    "create or replace external table `taxi-data-24-dtc.ny_taxi_25.external_yellow_taxi_25`\n",
    "options (\n",
    "  format = 'parquet',\n",
    "  uris = ['gs://data-taxi-yellow/yellow_tripdata_2024-*.parquet']\n",
    ")\n",
    "\n",
    "create or replace table `taxi-data-24-dtc.ny_taxi_25.yellow_taxi_25_non_partition` as\n",
    "select * from `taxi-data-24-dtc.ny_taxi_25.external_yellow_taxi_25`"
   ]
  },
  {
   "cell_type": "markdown",
   "metadata": {},
   "source": [
    "Once created the tables, I counted the records using this query:"
   ]
  },
  {
   "cell_type": "code",
   "execution_count": null,
   "metadata": {},
   "outputs": [],
   "source": [
    "select count(1) from `taxi-data-24-dtc.ny_taxi_25.yellow_taxi_25_non_partition`"
   ]
  },
  {
   "cell_type": "markdown",
   "metadata": {},
   "source": [
    "The number of rows in the yellow taxi dataset for 2024 is __20.332.093__."
   ]
  },
  {
   "cell_type": "markdown",
   "metadata": {},
   "source": [
    "### __Question 2.__\n",
    "Write a query to count the distinct number of PULocationIDs for the entire dataset on both the tables.\n",
    "What is the estimated amount of data that will be read when this query is executed on the External Table and the Table?\n",
    "\n",
    "-- 18.82 MB for the External Table and 47.60 MB for the Materialized Table <br>\n",
    "-- 0 MB for the External Table and 155.12 MB for the Materialized Table <br>\n",
    "-- 2.14 GB for the External Table and 0MB for the Materialized Table <br>\n",
    "-- 0 MB for the External Table and 0MB for the Materialized Table <br>\n"
   ]
  },
  {
   "cell_type": "markdown",
   "metadata": {},
   "source": [
    "### Answer: \n",
    "To answer this question I used this query for the materialized data:"
   ]
  },
  {
   "cell_type": "code",
   "execution_count": null,
   "metadata": {},
   "outputs": [],
   "source": [
    "select distinct(PULocationID) from `taxi-data-24-dtc.ny_taxi_25.yellow_taxi_25_non_partition`"
   ]
  },
  {
   "cell_type": "markdown",
   "metadata": {},
   "source": [
    "![Q2](Q2.png \"Materialized table\")"
   ]
  },
  {
   "cell_type": "markdown",
   "metadata": {},
   "source": [
    "And this query for the external table:"
   ]
  },
  {
   "cell_type": "code",
   "execution_count": null,
   "metadata": {},
   "outputs": [],
   "source": [
    "select distinct(PULocationID) from `taxi-data-24-dtc.ny_taxi_25.external_yellow_taxi_25`"
   ]
  },
  {
   "cell_type": "markdown",
   "metadata": {},
   "source": [
    "![Q2-b](Q2-b.png \"External Table\")"
   ]
  },
  {
   "cell_type": "markdown",
   "metadata": {},
   "source": [
    "Then the proper answer is: __0 MB for the External Table and 155.12 MB for the Materialized Table__"
   ]
  },
  {
   "cell_type": "markdown",
   "metadata": {},
   "source": [
    "### __Question 3.__\n",
    "Write a query to retrieve the PULocationID from the table (not the external table) in BigQuery. Now write a query to retrieve the PULocationID and DOLocationID on the same table. Why are the estimated number of Bytes different?\n",
    "\n",
    "- BigQuery is a columnar database, and it only scans the specific columns requested in the query. Querying two columns (PULocationID, DOLocationID) requires reading more data than querying one column (PULocationID), leading to a higher estimated number of bytes processed. <br>\n",
    "- BigQuery duplicates data across multiple storage partitions, so selecting two columns instead of one requires scanning the table twice, doubling the estimated bytes processed. <br>\n",
    "- BigQuery automatically caches the first queried column, so adding a second column increases processing time but does not affect the estimated bytes scanned. <br>\n",
    "- When selecting multiple columns, BigQuery performs an implicit join operation between them, increasing the estimated bytes processed <br>\n"
   ]
  },
  {
   "cell_type": "markdown",
   "metadata": {},
   "source": [
    "### Answer:\n",
    "Both queries are: "
   ]
  },
  {
   "cell_type": "code",
   "execution_count": null,
   "metadata": {},
   "outputs": [],
   "source": [
    "select PULocationID from `taxi-data-24-dtc.ny_taxi_25.external_yellow_taxi_25`\n",
    "# wich process 155.12 MB\n",
    "\n",
    "# AND \n",
    "\n",
    "select \n",
    "  PULocationID, DOLocationID\n",
    "from `taxi-data-24-dtc.ny_taxi_25.yellow_taxi_25_non_partition`\n",
    "# wich process 310.24 MB"
   ]
  },
  {
   "cell_type": "markdown",
   "metadata": {},
   "source": [
    "The right answer is __BigQuery is a columnar database, and it only scans the specific columns requested in the query. Querying two columns (PULocationID, DOLocationID) requires reading more data than querying one column (PULocationID), leading to a higher estimated number of bytes processed.__"
   ]
  },
  {
   "cell_type": "markdown",
   "metadata": {},
   "source": [
    "### __Question 4.__\n",
    "How many records have a fare_amount of 0?\n",
    "\n",
    "- 128,210 <br>\n",
    "- 546,578 <br>\n",
    "- 20,188,016 <br>\n",
    "- 8,333"
   ]
  },
  {
   "cell_type": "markdown",
   "metadata": {},
   "source": [
    "### Answer:\n",
    "I proceed this query:"
   ]
  },
  {
   "cell_type": "code",
   "execution_count": null,
   "metadata": {},
   "outputs": [],
   "source": [
    "select count(1)\n",
    "from `taxi-data-24-dtc.ny_taxi_25.yellow_taxi_25_non_partition`\n",
    "where fare_amount = 0 "
   ]
  },
  {
   "cell_type": "markdown",
   "metadata": {},
   "source": [
    "Then identifying __8.333 rows__ with a fare_amount of 0."
   ]
  },
  {
   "cell_type": "markdown",
   "metadata": {},
   "source": [
    "### __Question 5.__\n",
    "What is the best strategy to make an optimized table in Big Query if your query will always filter based on tpep_dropoff_datetime and order the results by VendorID (Create a new table with this strategy)\n",
    "\n",
    "- Partition by tpep_dropoff_datetime and Cluster on VendorID <br>\n",
    "- Cluster on by tpep_dropoff_datetime and Cluster on VendorID <br>\n",
    "- Cluster on tpep_dropoff_datetime Partition by VendorID <br>\n",
    "- Partition by tpep_dropoff_datetime and Partition by VendorID\n"
   ]
  },
  {
   "cell_type": "markdown",
   "metadata": {},
   "source": [
    "### Answer:\n",
    "The best strategy to make an optimized a table in BigQuery using the fields of \"tpep_dropoff_datetime\" and \"VendorID\" is __Partition by tpep_dropoff_datetime and Cluster on VendorID__, because only one field can be selected to partition upon and a datetime field can reduce the amount of data of each partition more effectively than the vendors ID. The code used to create such table is:"
   ]
  },
  {
   "cell_type": "code",
   "execution_count": null,
   "metadata": {},
   "outputs": [],
   "source": [
    "create or replace table `taxi-data-24-dtc.ny_taxi_25.yellow_taxi_partition_and_cluster`\n",
    "partition by date(tpep_dropoff_datetime)\n",
    "cluster by VendorID as \n",
    "select * from `taxi-data-24-dtc.ny_taxi_25.yellow_taxi_25_non_partition`"
   ]
  },
  {
   "cell_type": "markdown",
   "metadata": {},
   "source": [
    "### __Question 6.__\n",
    "Write a query to retrieve the distinct VendorIDs between tpep_dropoff_datetime 2024-03-01 and 2024-03-15 (inclusive)\n",
    "\n",
    "Use the materialized table you created earlier in your from clause and note the estimated bytes. Now change the table in the from clause to the partitioned table you created for question 5 and note the estimated bytes processed. What are these values?\n",
    "\n",
    "Choose the answer which most closely matches.\n",
    "\n",
    "- 12.47 MB for non-partitioned table and 326.42 MB for the partitioned table <br>\n",
    "- 310.24 MB for non-partitioned table and 26.84 MB for the partitioned table <br>\n",
    "- 5.87 MB for non-partitioned table and 0 MB for the partitioned table <br>\n",
    "- 310.31 MB for non-partitioned table and 285.64 MB for the partitioned table\n"
   ]
  },
  {
   "cell_type": "markdown",
   "metadata": {},
   "source": [
    "### Answer:\n",
    "The query used is:"
   ]
  },
  {
   "cell_type": "code",
   "execution_count": null,
   "metadata": {},
   "outputs": [],
   "source": [
    "# For non partitioned table:\n",
    "select distinct(VendorID) from `taxi-data-24-dtc.ny_taxi_25.yellow_taxi_25_non_partition`\n",
    "where date(tpep_dropoff_datetime) between '2024-03-01' and '2024-03-15'"
   ]
  },
  {
   "cell_type": "markdown",
   "metadata": {},
   "source": [
    "![Q6-a](Q6-a.png \"Non partitioned query\")"
   ]
  },
  {
   "cell_type": "code",
   "execution_count": null,
   "metadata": {},
   "outputs": [],
   "source": [
    "# And for partitioned tables is:\n",
    "select distinct(VendorID) from `taxi-data-24-dtc.ny_taxi_25.yellow_taxi_partition_and_cluster`\n",
    "where date(tpep_dropoff_datetime) between '2024-03-01' and '2024-03-15'"
   ]
  },
  {
   "cell_type": "markdown",
   "metadata": {},
   "source": [
    "![Q6-b](Q6-b.png \"Partitioned table\")"
   ]
  },
  {
   "cell_type": "markdown",
   "metadata": {},
   "source": [
    "The option that properly reflects the amount of data is __310.24 MB for non-partitioned table and 26.84 MB for the partitioned table__."
   ]
  },
  {
   "cell_type": "markdown",
   "metadata": {},
   "source": [
    "### __Question 7.__\n",
    "Where is the data stored in the External Table you created?\n",
    "\n",
    "- Big Query <br>\n",
    "- Container Registry <br>\n",
    "- GCP Bucket <br>\n",
    "- Big Table\n"
   ]
  },
  {
   "cell_type": "markdown",
   "metadata": {},
   "source": [
    "### Answer:\n",
    "The data is stored in a __GCP Bucket__ for the external table."
   ]
  },
  {
   "cell_type": "markdown",
   "metadata": {},
   "source": [
    "### __Question 8.__\n",
    "It is best practice in Big Query to always cluster your data:\n",
    "\n",
    "- True <br>\n",
    "- False"
   ]
  },
  {
   "cell_type": "markdown",
   "metadata": {},
   "source": [
    "### Answer:\n",
    "Its false because it depends on the amount of data in the table. When its little data, the compute resources used for building the clusters overrides the benefits during queries. "
   ]
  }
 ],
 "metadata": {
  "kernelspec": {
   "display_name": "base",
   "language": "python",
   "name": "python3"
  },
  "language_info": {
   "codemirror_mode": {
    "name": "ipython",
    "version": 3
   },
   "file_extension": ".py",
   "mimetype": "text/x-python",
   "name": "python",
   "nbconvert_exporter": "python",
   "pygments_lexer": "ipython3",
   "version": "3.12.7"
  }
 },
 "nbformat": 4,
 "nbformat_minor": 2
}
