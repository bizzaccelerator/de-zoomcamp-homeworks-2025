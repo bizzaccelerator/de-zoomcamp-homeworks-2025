{
 "cells": [
  {
   "cell_type": "markdown",
   "metadata": {},
   "source": [
    "Hey, I'm Jobert Gutierrez and hereafter you'll find the logic and code used to answer the first assignment in the program Data Engineering Zoomcamp offered by Data Talks Club."
   ]
  },
  {
   "cell_type": "markdown",
   "metadata": {},
   "source": [
    "# __Module 1 Homework: Docker & SQL__\n",
    "\n",
    "When your solution has SQL or shell commands and not code (e.g. python files) file format, include them directly in the README file of your repository.\n",
    "\n",
    "### __Question 1. Understanding docker first run__\n",
    "Run docker with the `python:3.12.8` image in an interactive mode, use the entrypoint bash.\n",
    "\n",
    "What's the version of `pip` in the image?\n",
    "\n",
    "--24.3.1 <br>\n",
    "--24.2.1 <br>\n",
    "--23.3.1 <br>\n",
    "--23.2.1 <br>"
   ]
  },
  {
   "cell_type": "markdown",
   "metadata": {},
   "source": [
    "### Answer: \n",
    "In the terminal, I coded the command `docker run -it --entrypoint=bash python:3.12.8` to build a new container for the specified python version. Once inside the container, I ran the command `pip list` obtaining a list for all packages already installed. Then, I got the version `24.3.1`."
   ]
  },
  {
   "cell_type": "markdown",
   "metadata": {},
   "source": [
    "![q1](Q1.png \"Solution 1\")"
   ]
  },
  {
   "cell_type": "markdown",
   "metadata": {},
   "source": [
    "### __Question 2. Understanding Docker networking and docker-compose__\n",
    "Given the following `docker-compose.yaml`, what is the `hostname` and `port` that pgadmin should use to connect to the postgres database?\n",
    "\n",
    "```\n",
    "services:\n",
    "  db:\n",
    "    container_name: postgres\n",
    "    image: postgres:17-alpine\n",
    "    environment:\n",
    "      POSTGRES_USER: 'postgres'\n",
    "      POSTGRES_PASSWORD: 'postgres'\n",
    "      POSTGRES_DB: 'ny_taxi'\n",
    "    ports:\n",
    "      - '5433:5432'\n",
    "    volumes:\n",
    "      - vol-pgdata:/var/lib/postgresql/data\n",
    "\n",
    "  pgadmin:\n",
    "    container_name: pgadmin\n",
    "    image: dpage/pgadmin4:latest\n",
    "    environment:\n",
    "      PGADMIN_DEFAULT_EMAIL: \"pgadmin@pgadmin.com\"\n",
    "      PGADMIN_DEFAULT_PASSWORD: \"pgadmin\"\n",
    "    ports:\n",
    "      - \"8080:80\"\n",
    "    volumes:\n",
    "      - vol-pgadmin_data:/var/lib/pgadmin  \n",
    "\n",
    "volumes:\n",
    "  vol-pgdata:\n",
    "    name: vol-pgdata\n",
    "  vol-pgadmin_data:\n",
    "    name: vol-pgadmin_data\n",
    "```\n",
    "\n",
    "-- postgres:5433 <br>\n",
    "-- localhost:5432 <br>\n",
    "-- db:5433 <br>\n",
    "-- postgres:5432 <br>\n",
    "-- db:5432\n",
    "\n",
    "If there are more than one answers, select only one of them"
   ]
  },
  {
   "cell_type": "markdown",
   "metadata": {},
   "source": [
    "### Answer: \n",
    "According to the docker-compose documentation is __postgres:5433__."
   ]
  },
  {
   "cell_type": "markdown",
   "metadata": {},
   "source": [
    "## __Prepare Postgres__\n",
    "Run Postgres and load data as shown in the videos We'll use the green taxi trips from October 2019:\n",
    "\n",
    "wget https://github.com/DataTalksClub/nyc-tlc-data/releases/download/green/green_tripdata_2019-10.csv.gz\n",
    "\n",
    "You will also need the dataset with zones:\n",
    "\n",
    "wget https://github.com/DataTalksClub/nyc-tlc-data/releases/download/misc/taxi_zone_lookup.csv\n",
    "\n",
    "Download this data and put it into Postgres.\n",
    "\n",
    "You can use the code from the course. It's up to you whether you want to use Jupyter or a python script.\n",
    "\n",
    "### __Question 3. Trip Segmentation Count__\n",
    "During the period of October 1st 2019 (inclusive) and November 1st 2019 (exclusive), how many trips, respectively, happened:\n",
    "\n",
    "- Up to 1 mile\n",
    "- In between 1 (exclusive) and 3 miles (inclusive),\n",
    "- In between 3 (exclusive) and 7 miles (inclusive),\n",
    "- In between 7 (exclusive) and 10 miles (inclusive),\n",
    "- Over 10 miles\n",
    "\n",
    "Answers: \n",
    "\n",
    "- 104,802; 197,670; 110,612; 27,831; 35,281 <br>\n",
    "- 104,802; 198,924; 109,603; 27,678; 35,189 <br>\n",
    "- 104,793; 201,407; 110,612; 27,831; 35,281 <br>\n",
    "- 104,793; 202,661; 109,603; 27,678; 35,189 <br>\n",
    "- 104,838; 199,013; 109,645; 27,688; 35,202\n"
   ]
  },
  {
   "cell_type": "code",
   "execution_count": null,
   "metadata": {},
   "outputs": [],
   "source": [
    "URL=\"https://github.com/DataTalksClub/nyc-tlc-data/releases/download/green/green_tripdata_2019-10.csv.gz\"\n",
    "\n",
    "winpty docker run -it \\\n",
    "  --network=data_projects_default \\\n",
    "  taxi_green:v01 \\\n",
    "    --user=root \\\n",
    "    --password=root \\\n",
    "    --host=pg-database \\\n",
    "    --port=5432 \\\n",
    "    --db=nyc_taxi \\\n",
    "    --table_name=green_taxi_trips \\\n",
    "    --url=${URL}"
   ]
  },
  {
   "cell_type": "markdown",
   "metadata": {},
   "source": [
    "and:"
   ]
  },
  {
   "cell_type": "code",
   "execution_count": null,
   "metadata": {},
   "outputs": [],
   "source": [
    "URL=\"wget https://github.com/DataTalksClub/nyc-tlc-data/releases/download/misc/taxi_zone_lookup.csv\"\n",
    "\n",
    "winpty docker run -it \\\n",
    "  --network=data_projects_default \\\n",
    "  zones:v01 \\\n",
    "    --user=root \\\n",
    "    --password=root \\\n",
    "    --host=pg-database \\\n",
    "    --port=5432 \\\n",
    "    --db=nyc_taxi \\\n",
    "    --table_name=zones_table \\\n",
    "    --url=${URL}"
   ]
  },
  {
   "cell_type": "markdown",
   "metadata": {},
   "source": [
    "The we can count the trips into pg-admin using the following postgresql snippet:"
   ]
  },
  {
   "cell_type": "code",
   "execution_count": null,
   "metadata": {},
   "outputs": [],
   "source": [
    "select count(1) from green_taxi_trips\n",
    "where date(lpep_pickup_datetime)='2019-09-18'\n",
    "and date(lpep_dropoff_datetime)='2019-09-18'"
   ]
  },
  {
   "cell_type": "markdown",
   "metadata": {},
   "source": [
    "### Answer:\n",
    "Hence, we get an amount of __15612 trips__."
   ]
  },
  {
   "cell_type": "markdown",
   "metadata": {},
   "source": [
    "### __Question 4. Largest trip for each day__\n",
    "Which was the pick up day with the longest trip distance? Use the pick up time for your calculations.\n",
    "\n",
    "Tip: For every day, we only care about one single trip with the longest distance.\n",
    "\n",
    "2019-10-11 <br>\n",
    "2019-10-24 <br>\n",
    "2019-10-26 <br>\n",
    "2019-10-31\n",
    "\n",
    "we write the code as follows:"
   ]
  },
  {
   "cell_type": "code",
   "execution_count": null,
   "metadata": {},
   "outputs": [],
   "source": [
    "select \n",
    "\tdate(lpep_pickup_datetime) as pick_up_day,\n",
    "\tmax(trip_distance) as biggest_distance\n",
    "from green_taxi_trips\n",
    "group by date(lpep_pickup_datetime)\n",
    "order by biggest_distance desc \n",
    "limit 3"
   ]
  },
  {
   "cell_type": "markdown",
   "metadata": {},
   "source": [
    "### Answer:\n",
    "The largest trip during septembre 2019 was performed in __2019-09-26__."
   ]
  },
  {
   "cell_type": "markdown",
   "metadata": {},
   "source": [
    "### __Question 5. Three biggest pickup zones__\n",
    "Which were the top pickup locations with over 13,000 in `total_amount` (across all trips) for 2019-10-18?\n",
    "\n",
    "Consider only `lpep_pickup_datetime` when filtering by date.\n",
    "\n",
    "- East Harlem North, East Harlem South, Morningside Heights <br>\n",
    "- East Harlem North, Morningside Heights <br>\n",
    "- Morningside Heights, Astoria Park, East Harlem South <br>\n",
    "- Bedford, East Harlem North, Astoria Park\n",
    "\n",
    "Using the following code:"
   ]
  },
  {
   "cell_type": "code",
   "execution_count": null,
   "metadata": {},
   "outputs": [],
   "source": [
    "select \n",
    "\tpublic.zones_table.\"Borough\",\n",
    "\tsum(public.green_taxi_trips.total_amount) as sum_amount\n",
    "from \n",
    "\tpublic.zones_table \n",
    "left join public.green_taxi_trips\n",
    "on public.zones_table.\"LocationID\" = public.green_taxi_trips.\"PULocationID\"\n",
    "where\n",
    "\tdate(public.green_taxi_trips.lpep_pickup_datetime)='2019-09-18'\n",
    "group by \n",
    "\tpublic.zones_table.\"Borough\"\n",
    "order by \n",
    "\tsum_amount desc"
   ]
  },
  {
   "cell_type": "markdown",
   "metadata": {},
   "source": [
    "### Answer:\n",
    "Running the snippet above we identify that the 3 pick up Boroughs that had a sum of total_amount superior to 50000 are __\"Brooklyn\" \"Manhattan\" \"Queens\"__."
   ]
  },
  {
   "cell_type": "markdown",
   "metadata": {},
   "source": [
    "### __Question 6. Largest tip__\n",
    "For the passengers picked up in October 2019 in the zone named \"East Harlem North\" which was the drop off zone that had the largest tip?\n",
    "\n",
    "Note: it's `tip` , not `trip`\n",
    "\n",
    "We need the name of the zone, not the ID.\n",
    "\n",
    "- Yorkville West <br>\n",
    "- JFK Airport <br>\n",
    "- East Harlem North <br>\n",
    "- East Harlem South\n",
    "\n",
    "Using the following code:"
   ]
  },
  {
   "cell_type": "code",
   "execution_count": null,
   "metadata": {},
   "outputs": [],
   "source": [
    "select \n",
    "\tz2.\"Zone\",\n",
    "\tmax(public.green_taxi_trips.tip_amount) as tips\n",
    "from \n",
    "\tpublic.green_taxi_trips\n",
    "left join public.zones_table z\n",
    "on z.\"LocationID\" = public.green_taxi_trips.\"PULocationID\"\n",
    "inner join public.zones_table z2\n",
    "on z2.\"LocationID\" = public.green_taxi_trips.\"DOLocationID\"\n",
    "where \n",
    "\tz.\"Zone\" = 'Astoria'\n",
    "group by \n",
    "\tz2.\"Zone\"\n",
    "order by \n",
    "\ttips desc\n",
    "limit 3"
   ]
  },
  {
   "cell_type": "markdown",
   "metadata": {},
   "source": [
    "### Answer:\n",
    "We obtain that __\"JFK Airport\" was the drop off zone that had the largest tip__."
   ]
  },
  {
   "cell_type": "markdown",
   "metadata": {},
   "source": [
    "## __Terraform__\n",
    "In this section homework we'll prepare the environment by creating resources in GCP with Terraform.\n",
    "\n",
    "In your VM on GCP/Laptop/GitHub Codespace install Terraform. Copy the files from the course repo here to your VM/Laptop/GitHub Codespace.\n",
    "\n",
    "Modify the files as necessary to create a GCP Bucket and Big Query Dataset.\n",
    "\n",
    "### __Question 7. Creating Resources__\n",
    "Which of the following sequences, respectively, describes the workflow for:\n",
    "\n",
    "1. Downloading the provider plugins and setting up backend,\n",
    "2. Generating proposed changes and auto-executing the plan\n",
    "3. Remove all resources managed by terraform`\n",
    "\n",
    "Answers:\n",
    "\n",
    "- terraform import, terraform apply -y, terraform destroy\n",
    "- teraform init, terraform plan -auto-apply, terraform rm\n",
    "- terraform init, terraform run -auto-approve, terraform destroy\n",
    "- terraform init, terraform apply -auto-approve, terraform destroy\n",
    "- terraform import, terraform apply -y, terraform rm\n",
    "\n",
    "### Answer:\n",
    "\n",
    "The output of the command _terraform apply_ is:"
   ]
  },
  {
   "cell_type": "markdown",
   "metadata": {},
   "source": [
    "Plan: 2 to add, 0 to change, 0 to destroy.\n",
    "\n",
    "Do you want to perform these actions?\n",
    "  Terraform will perform the actions described above.\n",
    "  Only 'yes' will be accepted to approve.\n",
    "\n",
    "  Enter a value: yes\n",
    "\n",
    "google_bigquery_dataset.demo_dataset: Creating...\n",
    "google_storage_bucket.demo-bucket: Creating...\n",
    "google_bigquery_dataset.demo_dataset: Creation complete after 1s [id=projects/data-taxi-1/datasets/demo_dataset]\n",
    "google_storage_bucket.demo-bucket: Creation complete after 1s [id=terraform-taxi-data-1]\n",
    "\n",
    "Apply complete! Resources: 2 added, 0 changed, 0 destroyed."
   ]
  }
 ],
 "metadata": {
  "kernelspec": {
   "display_name": "base",
   "language": "python",
   "name": "python3"
  },
  "language_info": {
   "codemirror_mode": {
    "name": "ipython",
    "version": 3
   },
   "file_extension": ".py",
   "mimetype": "text/x-python",
   "name": "python",
   "nbconvert_exporter": "python",
   "pygments_lexer": "ipython3",
   "version": "3.12.7"
  }
 },
 "nbformat": 4,
 "nbformat_minor": 2
}
