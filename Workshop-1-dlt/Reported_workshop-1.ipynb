{
 "cells": [
  {
   "cell_type": "markdown",
   "metadata": {},
   "source": [
    "Hey, I'm Jobert Gutierrez and hereafter you'll find the logic and code used to answer the assignment for DLT workshop in the program Data Engineering Zoomcamp offered by Data Talks Club."
   ]
  },
  {
   "cell_type": "markdown",
   "metadata": {},
   "source": [
    "# __Workshop: Data Load Tool (dlt)__\n",
    "\n",
    "__Dataset & API:__\n",
    "\n",
    "We’ll use NYC Taxi data via the same custom API from the workshop:\n",
    "\n",
    "🔹 Base API URL:\n",
    "\n",
    "> https://us-central1-dlthub-analytics.cloudfunctions.net/data_engineering_zoomcamp_api\n",
    "\n",
    "🔹 Data format: Paginated JSON (1,000 records per page).\n",
    "🔹 API Pagination: Stop when an empty page is returned.\n",
    "\n",
    "### __Question 1.__\n",
    "\n",
    "Install dlt:\n",
    "\n",
    "> !pip install dlt[duckdb]\n",
    "\n",
    "Or choose a different bracket—bigquery, redshift, etc.—if you prefer another primary destination. For this assignment, we’ll still do a quick test with DuckDB.\n",
    "\n",
    "Check the version:\n",
    "\n",
    "> !dlt --version\n",
    "\n",
    "or:\n",
    "\n",
    "```\n",
    "import dlt\n",
    "print(\"dlt version:\", dlt.__version__)\n",
    "```\n",
    "Provide the version you see in the output."
   ]
  },
  {
   "cell_type": "markdown",
   "metadata": {},
   "source": [
    "### Answer: \n",
    "The version I see is __dlt 1.6.1__."
   ]
  },
  {
   "cell_type": "markdown",
   "metadata": {},
   "source": [
    "![Q1](Q1.png \"Dlt version\")"
   ]
  },
  {
   "cell_type": "markdown",
   "metadata": {},
   "source": [
    "### __Question 2.Define & Run the Pipeline (NYC Taxi API)__\n",
    "Use dlt to extract all pages of data from the API.\n",
    "\n",
    "Steps:\n",
    "\n",
    "1️⃣ Use the @dlt.resource decorator to define the API source.\n",
    "\n",
    "2️⃣ Implement automatic pagination using dlt's built-in REST client.\n",
    "\n",
    "3️⃣ Load the extracted data into DuckDB for querying."
   ]
  },
  {
   "cell_type": "code",
   "execution_count": null,
   "metadata": {},
   "outputs": [],
   "source": [
    "import dlt\n",
    "from dlt.sources.helpers.rest_client import RESTClient\n",
    "from dlt.sources.helpers.rest_client.paginators import PageNumberPaginator\n",
    "\n",
    "\n",
    "# your code is here\n",
    "\n",
    "\n",
    "pipeline = dlt.pipeline(\n",
    "    pipeline_name=\"ny_taxi_pipeline\",\n",
    "    destination=\"duckdb\",\n",
    "    dataset_name=\"ny_taxi_data\"\n",
    ")"
   ]
  },
  {
   "cell_type": "markdown",
   "metadata": {},
   "source": [
    "Load the data into DuckDB to test:"
   ]
  },
  {
   "cell_type": "code",
   "execution_count": null,
   "metadata": {},
   "outputs": [],
   "source": [
    "load_info = pipeline.run(ny_taxi)\n",
    "print(load_info)"
   ]
  },
  {
   "cell_type": "markdown",
   "metadata": {},
   "source": [
    "Start a connection to your database using native duckdb connection and look what tables were generated:"
   ]
  },
  {
   "cell_type": "code",
   "execution_count": null,
   "metadata": {},
   "outputs": [],
   "source": [
    "import duckdb\n",
    "from google.colab import data_table\n",
    "data_table.enable_dataframe_formatter()\n",
    "\n",
    "# A database '<pipeline_name>.duckdb' was created in working directory so just connect to it\n",
    "\n",
    "# Connect to the DuckDB database\n",
    "conn = duckdb.connect(f\"{pipeline.pipeline_name}.duckdb\")\n",
    "\n",
    "# Set search path to the dataset\n",
    "conn.sql(f\"SET search_path = '{pipeline.dataset_name}'\")\n",
    "\n",
    "# Describe the dataset\n",
    "conn.sql(\"DESCRIBE\").df()"
   ]
  },
  {
   "cell_type": "markdown",
   "metadata": {},
   "source": [
    "How many tables were created?\n",
    "- 2\n",
    "- 4\n",
    "- 6\n",
    "- 8"
   ]
  },
  {
   "cell_type": "markdown",
   "metadata": {},
   "source": [
    "### Answer: \n",
    "To answer this question I used this code for loading the data:"
   ]
  },
  {
   "cell_type": "code",
   "execution_count": null,
   "metadata": {},
   "outputs": [],
   "source": [
    "import dlt\n",
    "from dlt.sources.helpers.rest_client import RESTClient\n",
    "from dlt.sources.helpers.rest_client.paginators import PageNumberPaginator\n",
    "\n",
    "#Define the API resource for NYC taxi data\n",
    "@dlt.resource(name=\"rides\")\n",
    "def ny_taxi():\n",
    "    client = RESTClient(\n",
    "            base_url=\"https://us-central1-dlthub-analytics.cloudfunctions.net\",\n",
    "            paginator=PageNumberPaginator(\n",
    "                base_page=1,\n",
    "                total_path=None)\n",
    "        )\n",
    "    for page in client.paginate(\"data_engineering_zoomcamp_api\"):\n",
    "        yield page\n",
    "\n",
    "# Define the new dlp pipeline\n",
    "pipeline = dlt.pipeline(\n",
    "    destination=\"duckdb\",\n",
    ")\n",
    "\n",
    "# Run the pipeline with the new resource \n",
    "load_info = pipeline.run(ny_taxi, write_disposition=\"replace\")\n",
    "print(load_info)"
   ]
  },
  {
   "cell_type": "markdown",
   "metadata": {},
   "source": [
    "Then, I used this code to see the table:"
   ]
  },
  {
   "cell_type": "code",
   "execution_count": null,
   "metadata": {},
   "outputs": [],
   "source": [
    "# show outcome\n",
    "import duckdb\n",
    "\n",
    "#Create a conector\n",
    "connector = duckdb.connect(f\"{pipeline.pipeline_name}.duckdb\")\n",
    "\n",
    "# let's see the tables\n",
    "connector.sql(f\"SET search_path = '{pipeline.dataset_name}'\")\n",
    "print('Loaded tables: ')\n",
    "display(connector.sql(\"show tables\"))"
   ]
  },
  {
   "cell_type": "markdown",
   "metadata": {},
   "source": [
    "Getting this tables:"
   ]
  },
  {
   "cell_type": "markdown",
   "metadata": {},
   "source": [
    "![Q2](Q2.png \"Tables uploaded\")"
   ]
  },
  {
   "cell_type": "markdown",
   "metadata": {},
   "source": [
    "Then the proper answer is: __4 Tables as seen before__"
   ]
  },
  {
   "cell_type": "markdown",
   "metadata": {},
   "source": [
    "### __Question 3. Explore the loaded data__\n",
    "Inspect the table `ride`:"
   ]
  },
  {
   "cell_type": "code",
   "execution_count": null,
   "metadata": {},
   "outputs": [],
   "source": [
    "# Explore the data \n",
    "pipeline.dataset(dataset_type=\"default\").rides.df()"
   ]
  },
  {
   "cell_type": "markdown",
   "metadata": {},
   "source": [
    "What is the total number of records extracted?"
   ]
  },
  {
   "cell_type": "markdown",
   "metadata": {},
   "source": [
    "### Answer:\n",
    "Using the code below:"
   ]
  },
  {
   "cell_type": "code",
   "execution_count": null,
   "metadata": {},
   "outputs": [],
   "source": [
    "df.shape"
   ]
  },
  {
   "cell_type": "markdown",
   "metadata": {},
   "source": [
    "![Q3](Q3.png \"Number of records in the dataset\")"
   ]
  },
  {
   "cell_type": "markdown",
   "metadata": {},
   "source": [
    "The number of records in the datase is __10.000__"
   ]
  },
  {
   "cell_type": "markdown",
   "metadata": {},
   "source": [
    "### __Question 4.Trip Duration Analysis__\n",
    "Run the SQL query below to:"
   ]
  },
  {
   "cell_type": "code",
   "execution_count": null,
   "metadata": {},
   "outputs": [],
   "source": [
    "with pipeline.sql_client() as client:\n",
    "    res = client.execute_sql(\n",
    "            \"\"\"\n",
    "            SELECT\n",
    "            AVG(date_diff('minute', trip_pickup_date_time, trip_dropoff_date_time))\n",
    "            FROM rides;\n",
    "            \"\"\"\n",
    "        )\n",
    "    # Prints column values of the first row\n",
    "    print(res)"
   ]
  },
  {
   "cell_type": "markdown",
   "metadata": {},
   "source": [
    "Calculate the average trip duration in minutes.?"
   ]
  },
  {
   "cell_type": "markdown",
   "metadata": {},
   "source": [
    "### Answer:\n",
    "Using the proposed code I obtained an average time of __12.3049 mins__"
   ]
  },
  {
   "cell_type": "markdown",
   "metadata": {},
   "source": [
    "![Q4](Q4.png \"Difference in minutes\")"
   ]
  }
 ],
 "metadata": {
  "kernelspec": {
   "display_name": "base",
   "language": "python",
   "name": "python3"
  },
  "language_info": {
   "codemirror_mode": {
    "name": "ipython",
    "version": 3
   },
   "file_extension": ".py",
   "mimetype": "text/x-python",
   "name": "python",
   "nbconvert_exporter": "python",
   "pygments_lexer": "ipython3",
   "version": "3.12.7"
  }
 },
 "nbformat": 4,
 "nbformat_minor": 2
}
