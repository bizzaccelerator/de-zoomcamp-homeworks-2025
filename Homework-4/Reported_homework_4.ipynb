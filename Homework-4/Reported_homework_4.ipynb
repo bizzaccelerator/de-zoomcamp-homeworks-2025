{
 "cells": [
  {
   "cell_type": "markdown",
   "metadata": {},
   "source": [
    "Hey, I'm Jobert Gutierrez and hereafter you'll find the logic and code used to answer the fourth assignment in the program Data Engineering Zoomcamp offered by Data Talks Club."
   ]
  },
  {
   "cell_type": "markdown",
   "metadata": {},
   "source": [
    "# __Module 4 Homework: Analytics Engineering__\n",
    "\n",
    "For this homework, you will need the following datasets:\n",
    "\n",
    "- [Green Taxi dataset (2019 and 2020)](https://github.com/DataTalksClub/nyc-tlc-data/releases/tag/green)\n",
    "- [Yellow Taxi dataset (2019 and 2020)](https://github.com/DataTalksClub/nyc-tlc-data/releases/tag/yellow)\n",
    "- [For Hire Vehicle dataset (2019)](https://github.com/DataTalksClub/nyc-tlc-data/releases/tag/fhv)\n",
    "\n",
    "Before you start,\n",
    "\n",
    "1. Make sure you, at least, have them in GCS with a External Table OR a Native Table - use whichever method you prefer to accomplish that (Workflow Orchestration with pandas-gbq, dlt for gcs, dlt for BigQuery, gsutil, etc)\n",
    "2. You should have exactly `7,778,101` records in your Green Taxi table\n",
    "3. You should have exactly `109,047,518` records in your Yellow Taxi table\n",
    "4. You should have exactly `43,244,696` records in your FHV table\n",
    "5. Build the staging models for green/yellow as shown in [here](https://github.com/DataTalksClub/data-engineering-zoomcamp/blob/main/04-analytics-engineering/taxi_rides_ny/models/staging)\n",
    "\n",
    "Note: If you don't have access to GCP, you can spin up a local Postgres instance and ingest the datasets above\n",
    "\n",
    "### __Question 1.Understanding dbt model resolution__\n",
    "Provided you've got the following sources.yaml?"
   ]
  },
  {
   "cell_type": "code",
   "execution_count": null,
   "metadata": {},
   "outputs": [],
   "source": [
    "version: 2\n",
    "\n",
    "sources:\n",
    "  - name: raw_nyc_tripdata\n",
    "    database: \"{{ env_var('DBT_BIGQUERY_PROJECT', 'dtc_zoomcamp_2025') }}\"\n",
    "    schema:   \"{{ env_var('DBT_BIGQUERY_SOURCE_DATASET', 'raw_nyc_tripdata') }}\"\n",
    "    tables:\n",
    "      - name: ext_green_taxi\n",
    "      - name: ext_yellow_taxi"
   ]
  },
  {
   "cell_type": "markdown",
   "metadata": {},
   "source": [
    "with the following env variables setup where dbt runs:"
   ]
  },
  {
   "cell_type": "code",
   "execution_count": null,
   "metadata": {},
   "outputs": [],
   "source": [
    "export DBT_BIGQUERY_PROJECT=myproject\n",
    "export DBT_BIGQUERY_DATASET=my_nyc_tripdata"
   ]
  },
  {
   "cell_type": "markdown",
   "metadata": {},
   "source": [
    "What does this .sql model compile to?"
   ]
  },
  {
   "cell_type": "code",
   "execution_count": null,
   "metadata": {},
   "outputs": [],
   "source": [
    "select * \n",
    "from {{ source('raw_nyc_tripdata', 'ext_green_taxi' ) }}"
   ]
  },
  {
   "cell_type": "markdown",
   "metadata": {},
   "source": [
    "--select * from dtc_zoomcamp_2025.raw_nyc_tripdata.ext_green_taxi <br>\n",
    "--select * from dtc_zoomcamp_2025.my_nyc_tripdata.ext_green_taxi <br>\n",
    "--select * from myproject.raw_nyc_tripdata.ext_green_taxi <br>\n",
    "--select * from myproject.my_nyc_tripdata.ext_green_taxi <br>\n",
    "-- select * from dtc_zoomcamp_2025.raw_nyc_tripdata.green_taxi"
   ]
  },
  {
   "cell_type": "markdown",
   "metadata": {},
   "source": [
    "### Answer: \n",
    "The indicated sql model compiles to `select * from myproject.raw_nyc_tripdata.ext_green_taxi`."
   ]
  },
  {
   "cell_type": "markdown",
   "metadata": {},
   "source": [
    "### __Question 2.dbt Variables & Dynamic Models__\n",
    "\n",
    "Say you have to modify the following dbt_model (`fct_recent_taxi_trips.sql`) to enable Analytics Engineers to dynamically control the date range.\n",
    "\n",
    "- In development, you want to process only the last 7 days of trips\n",
    "- In production, you need to process the last 30 days for analytics\n"
   ]
  },
  {
   "cell_type": "code",
   "execution_count": null,
   "metadata": {},
   "outputs": [],
   "source": [
    "select *\n",
    "from {{ ref('fact_taxi_trips') }}\n",
    "where pickup_datetime >= CURRENT_DATE - INTERVAL '30 days'"
   ]
  },
  {
   "cell_type": "markdown",
   "metadata": {},
   "source": [
    "What would you change to accomplish that in a such way that command line arguments takes precedence over ENV_VARs, which takes precedence over DEFAULT value?\n",
    "\n",
    "- Add `ORDER BY pickup_datetime DESC` and `LIMIT {{ var(\"days_back\", 30) }}`\n",
    "- Update the WHERE clause to `pickup_datetime >= CURRENT_DATE - INTERVAL '{{ var(\"days_back\", 30) }}' DAY`\n",
    "- Update the WHERE clause to `pickup_datetime >= CURRENT_DATE - INTERVAL '{{ env_var(\"DAYS_BACK\", \"30\") }}' DAY`\n",
    "- Update the WHERE clause to `pickup_datetime >= CURRENT_DATE - INTERVAL '{{ var(\"days_back\", env_var(\"DAYS_BACK\", \"30\")) }}' DAY`\n",
    "- Update the WHERE clause to `pickup_datetime >= CURRENT_DATE - INTERVAL '{{ env_var(\"DAYS_BACK\", var(\"days_back\", \"30\")) }}' DAY`"
   ]
  },
  {
   "cell_type": "markdown",
   "metadata": {},
   "source": [
    "### Answer: \n",
    "The right answer is __updating the WHERE clause to `pickup_datetime >= CURRENT_DATE - INTERVAL '{{ var(\"days_back\", env_var(\"DAYS_BACK\", \"30\")) }}' DAY`__ because this option:\n",
    "- ensures prioritization If days_back is passed via --vars, \n",
    "- it falls back to env_var(\"DAYS_BACK\", \"30\") if `days_back` isn't set, and \n",
    "- set the dafault value of 30 if neither is set."
   ]
  },
  {
   "cell_type": "markdown",
   "metadata": {},
   "source": [
    "### __Question 3.dbt Data Lineage and Execution__\n",
    "\n",
    "Considering the data lineage below and that taxi_zone_lookup is the only materialization build (from a .csv seed file):"
   ]
  },
  {
   "cell_type": "markdown",
   "metadata": {},
   "source": [
    "![homework_q2](homework_q2.png \"Diagram\")"
   ]
  },
  {
   "cell_type": "markdown",
   "metadata": {},
   "source": [
    "Select the option that does NOT apply for materializing fct_taxi_monthly_zone_revenue:\n",
    "\n",
    "- dbt run\n",
    "- dbt run --select +models/core/dim_taxi_trips.sql+ --target prod\n",
    "- dbt run --select +models/core/fct_taxi_monthly_zone_revenue.sql\n",
    "- dbt run --select +models/core/\n",
    "- dbt run --select models/staging/+"
   ]
  },
  {
   "cell_type": "markdown",
   "metadata": {},
   "source": [
    "### Answer:\n",
    "The right answer is `dbt run --select +models/core/dim_taxi_trips.sql+ --target prod` because this will not materialize the table in dev. It will create the table in production only."
   ]
  },
  {
   "cell_type": "markdown",
   "metadata": {},
   "source": [
    "### __Question 4.__\n",
    "dbt Macros and Jinja\n",
    "Consider you're dealing with sensitive data (e.g.: [PII](https://en.wikipedia.org/wiki/Personal_data)), that is only available to your team and very selected few individuals, in the `raw layer` of your DWH (e.g: a specific BigQuery dataset or PostgreSQL schema),\n",
    "\n",
    "- Among other things, you decide to obfuscate/masquerade that data through your staging models, and make it available in a different schema (a `staging layer`) for other Data/Analytics Engineers to explore\n",
    "\n",
    "- And optionally, yet another layer (`service layer`), where you'll build your dimension (dim_) and fact (fct_) tables (assuming the [Star Schema dimensional modeling](https://www.databricks.com/glossary/star-schema)) for Dashboarding and for Tech Product Owners/Managers\n",
    "\n",
    "You decide to make a macro to wrap a logic around it:"
   ]
  },
  {
   "cell_type": "code",
   "execution_count": null,
   "metadata": {},
   "outputs": [],
   "source": [
    "{% macro resolve_schema_for(model_type) -%}\n",
    "\n",
    "    {%- set target_env_var = 'DBT_BIGQUERY_TARGET_DATASET'  -%}\n",
    "    {%- set stging_env_var = 'DBT_BIGQUERY_STAGING_DATASET' -%}\n",
    "\n",
    "    {%- if model_type == 'core' -%} {{- env_var(target_env_var) -}}\n",
    "    {%- else -%}                    {{- env_var(stging_env_var, env_var(target_env_var)) -}}\n",
    "    {%- endif -%}\n",
    "\n",
    "{%- endmacro %}"
   ]
  },
  {
   "cell_type": "markdown",
   "metadata": {},
   "source": [
    "And use on your staging, dim_ and fact_ models as:"
   ]
  },
  {
   "cell_type": "code",
   "execution_count": null,
   "metadata": {},
   "outputs": [],
   "source": [
    "{{ config(\n",
    "    schema=resolve_schema_for('core'), \n",
    ") }}"
   ]
  },
  {
   "cell_type": "markdown",
   "metadata": {},
   "source": [
    "That all being said, regarding macro above, select all statements that are true to the models using it:\n",
    "\n",
    "- Setting a value for DBT_BIGQUERY_TARGET_DATASET env var is mandatory, or it'll fail to compile\n",
    "- Setting a value for DBT_BIGQUERY_STAGING_DATASET env var is mandatory, or it'll fail to compile\n",
    "- When using core, it materializes in the dataset defined in DBT_BIGQUERY_TARGET_DATASET\n",
    "- When using stg, it materializes in the dataset defined in DBT_BIGQUERY_STAGING_DATASET, or defaults to DBT_BIGQUERY_TARGET_DATASET\n",
    "- When using staging, it materializes in the dataset defined in DBT_BIGQUERY_STAGING_DATASET, or defaults to DBT_BIGQUERY_TARGET_DATASET"
   ]
  },
  {
   "cell_type": "markdown",
   "metadata": {},
   "source": [
    "### Answer:\n",
    "The right options are: \n",
    "- `Setting a value for DBT_BIGQUERY_TARGET_DATASET env var is mandatory, or it'll fail to compile` because the macro always references env_var(target_env_var), which is DBT_BIGQUERY_TARGET_DATASET.\n",
    "\n",
    "- `When using core, it materializes in the dataset defined in DBT_BIGQUERY_TARGET_DATASET` because if the sets `model_type == 'core'`, the macro resolves to `{{- env_var(target_env_var) -}}`.\n",
    "\n",
    "- `When using staging, it materializes in the dataset defined in DBT_BIGQUERY_STAGING_DATASET, or defaults to DBT_BIGQUERY_TARGET_DATASET` because if model_type is not 'core', the macro executes the else clause meaning that if DBT_BIGQUERY_STAGING_DATASET exists, it uses it or it falls back to DBT_BIGQUERY_TARGET_DATASET otherwise."
   ]
  },
  {
   "cell_type": "markdown",
   "metadata": {},
   "source": [
    "## __Serious SQL__\n",
    "Alright, in module 1, you had a SQL refresher, so now let's build on top of that with some serious SQL.\n",
    "\n",
    "These are not meant to be easy - but they'll boost your SQL and Analytics skills to the next level.\n",
    "So, without any further do, let's get started...\n",
    "\n",
    "You might want to add some new dimensions year (e.g.: 2019, 2020), quarter (1, 2, 3, 4), year_quarter (e.g.: 2019/Q1, 2019-Q2), and month (e.g.: 1, 2, ..., 12), extracted from pickup_datetime, to your fct_taxi_trips OR dim_taxi_trips.sql models to facilitate filtering your queries"
   ]
  },
  {
   "cell_type": "markdown",
   "metadata": {},
   "source": [
    "### __Question 5.Taxi Quarterly Revenue Growth__\n",
    "1. Create a new model `fct_taxi_trips_quarterly_revenue.sql`\n",
    "2. Compute the Quarterly Revenues for each year for based on total_amount\n",
    "3. Compute the Quarterly YoY (Year-over-Year) revenue growth\n",
    "- e.g.: In 2020/Q1, Green Taxi had -12.34% revenue growth compared to 2019/Q1\n",
    "- e.g.: In 2020/Q4, Yellow Taxi had +34.56% revenue growth compared to 2019/Q4\n",
    "\n",
    "Considering the YoY Growth in 2020, which were the yearly quarters with the best (or less worse) and worst results for green, and yellow\n",
    "\n",
    "- green: {best: 2020/Q2, worst: 2020/Q1}, yellow: {best: 2020/Q2, worst: 2020/Q1}\n",
    "- green: {best: 2020/Q2, worst: 2020/Q1}, yellow: {best: 2020/Q3, worst: 2020/Q4}\n",
    "- green: {best: 2020/Q1, worst: 2020/Q2}, yellow: {best: 2020/Q2, worst: 2020/Q1}\n",
    "- green: {best: 2020/Q1, worst: 2020/Q2}, yellow: {best: 2020/Q1, worst: 2020/Q2}\n",
    "- green: {best: 2020/Q1, worst: 2020/Q2}, yellow: {best: 2020/Q3, worst: 2020/Q4}"
   ]
  },
  {
   "cell_type": "markdown",
   "metadata": {},
   "source": [
    "### Answer:\n",
    "I created the `fct_taxi_trips_quarterly_revenue.sql` model as indicated bellow:"
   ]
  },
  {
   "cell_type": "code",
   "execution_count": null,
   "metadata": {},
   "outputs": [],
   "source": [
    "{{\n",
    "    config(\n",
    "        materialized='table'\n",
    "    )\n",
    "}}\n",
    "with trips_data as (\n",
    "    select * from {{ ref(\"fact_trips\")}}\n",
    ")\n",
    "select\n",
    "-- revenue grouping\n",
    "pickup_zone as revenue_zone,\n",
    "concat('Q', extract(quarter from pickup_datetime), '_', extract(year from pickup_datetime)) as quarter_label,\n",
    "{{ dbt.date_trunc(\"quarter\",\"pickup_datetime\")}} as revenue_quarter,\n",
    "\n",
    "service_type, \n",
    "\n",
    "-- Revenue calculation \n",
    "sum(total_amount) as total_revenue_quarterly\n",
    "\n",
    "from trips_data\n",
    "group by 1,2,3,4"
   ]
  },
  {
   "cell_type": "markdown",
   "metadata": {},
   "source": [
    "Then computed the quarterly YoY revenue in Big Query as:"
   ]
  },
  {
   "cell_type": "code",
   "execution_count": null,
   "metadata": {},
   "outputs": [],
   "source": [
    "WITH revenue_data AS (\n",
    "    SELECT \n",
    "        service_type,\n",
    "        quarter_label,\n",
    "        revenue_quarter,\n",
    "        SUM(total_revenue_quarterly) AS total_revenue_quarterly,\n",
    "        -- Get revenue from the same quarter last year\n",
    "        LAG(SUM(total_revenue_quarterly)) OVER (\n",
    "            PARTITION BY service_type \n",
    "            ORDER BY revenue_quarter\n",
    "        ) AS previous_year_revenue\n",
    "    FROM `taxi-data-24-dtc.dbt_jgutierrez.fct_taxi_trips_quarterly_revenue`\n",
    "    GROUP BY quarter_label, service_type, revenue_quarter\n",
    ")\n",
    "SELECT \n",
    "    service_type,\n",
    "    quarter_label,\n",
    "    revenue_quarter,\n",
    "    total_revenue_quarterly,\n",
    "    previous_year_revenue,\n",
    "    -- Avoid division by zero\n",
    "    ROUND(\n",
    "        (total_revenue_quarterly - previous_year_revenue) / NULLIF(previous_year_revenue, 0) * 100, 2\n",
    "    ) AS yoy_growth_percentage\n",
    "FROM revenue_data\n",
    "WHERE date(revenue_quarter) between '2019-01-01' and '2021-01-01'\n",
    "ORDER BY revenue_quarter, service_type;\n"
   ]
  },
  {
   "cell_type": "markdown",
   "metadata": {},
   "source": [
    "Then, the right answer is __green: {best: 2020/Q1, worst: 2020/Q2}, yellow: {best: 2020/Q1, worst: 2020/Q2}__."
   ]
  },
  {
   "cell_type": "markdown",
   "metadata": {},
   "source": [
    "### __Question 6. P97/P95/P90 Taxi Monthly Fare__\n",
    "1. Create a new model `fct_taxi_trips_monthly_fare_p95.sql`\n",
    "2. Filter out invalid entries (fare_amount > 0, trip_distance > 0, and payment_type_description in ('Cash', 'Credit Card'))\n",
    "3. Compute the continous percentile of fare_amount partitioning by service_type, year and and month\n",
    "\n",
    "Now, what are the values of p97, p95, p90 for Green Taxi and Yellow Taxi, in April 2020?\n",
    "\n",
    "- green: {p97: 55.0, p95: 45.0, p90: 26.5}, yellow: {p97: 52.0, p95: 37.0, p90: 25.5}\n",
    "- green: {p97: 55.0, p95: 45.0, p90: 26.5}, yellow: {p97: 31.5, p95: 25.5, p90: 19.0}\n",
    "- green: {p97: 40.0, p95: 33.0, p90: 24.5}, yellow: {p97: 52.0, p95: 37.0, p90: 25.5}\n",
    "- green: {p97: 40.0, p95: 33.0, p90: 24.5}, yellow: {p97: 31.5, p95: 25.5, p90: 19.0}\n",
    "- green: {p97: 55.0, p95: 45.0, p90: 26.5}, yellow: {p97: 52.0, p95: 25.5, p90: 19.0}\n"
   ]
  },
  {
   "cell_type": "markdown",
   "metadata": {},
   "source": [
    "### Answer:\n",
    "I created the model `fct_taxi_trips_monthly_fare_p95.sql` using the following code:"
   ]
  },
  {
   "cell_type": "code",
   "execution_count": null,
   "metadata": {},
   "outputs": [],
   "source": [
    "{{\n",
    "    config(\n",
    "        materialized='table'\n",
    "    )\n",
    "}}\n",
    "\n",
    "WITH trips_data AS (\n",
    "    SELECT \n",
    "        service_type,\n",
    "        EXTRACT(YEAR FROM pickup_datetime) AS trip_year,\n",
    "        EXTRACT(MONTH FROM pickup_datetime) AS trip_month,\n",
    "        fare_amount,\n",
    "        trip_distance,\n",
    "        payment_type_description,\n",
    "\n",
    "        -- Compute the continuous percentile of fare_amount\n",
    "        PERCENT_RANK() OVER (\n",
    "            PARTITION BY service_type, EXTRACT(YEAR FROM pickup_datetime), EXTRACT(MONTH FROM pickup_datetime)\n",
    "            ORDER BY fare_amount\n",
    "        ) AS fare_percentile\n",
    "\n",
    "    FROM {{ ref('fact_trips') }}\n",
    "\n",
    "    -- Filter out invalid data\n",
    "    WHERE fare_amount > 0\n",
    "      AND trip_distance > 0\n",
    "      AND payment_type_description IN ('Cash', 'Credit Card')\n",
    ")\n",
    "\n",
    "SELECT *\n",
    "FROM trips_data\n",
    "ORDER BY service_type, trip_year, trip_month, fare_percentile"
   ]
  },
  {
   "cell_type": "markdown",
   "metadata": {},
   "source": [
    "Then, I calculated the requested information using big query as: "
   ]
  },
  {
   "cell_type": "code",
   "execution_count": null,
   "metadata": {},
   "outputs": [],
   "source": [
    "SELECT\n",
    "    service_type,\n",
    "    -- trip_year,\n",
    "    -- trip_month,\n",
    "    PERCENTILE_CONT(fare_amount, 0.97) OVER (PARTITION BY service_type, trip_year, trip_month) AS fare_p97,\n",
    "    PERCENTILE_CONT(fare_amount, 0.95) OVER (PARTITION BY service_type, trip_year, trip_month) AS fare_p95,\n",
    "    PERCENTILE_CONT(fare_amount, 0.90) OVER (PARTITION BY service_type, trip_year, trip_month) AS fare_p90\n",
    "FROM `taxi-data-24-dtc.dbt_jgutierrez.fct_taxi_trips_monthly_fare_p95`\n",
    "WHERE trip_year= 2020 AND trip_month =4"
   ]
  },
  {
   "cell_type": "markdown",
   "metadata": {},
   "source": [
    "The option that properly answer the question is __green: {p97: 55.0, p95: 45.0, p90: 26.5}, yellow: {p97: 31.5, p95: 25.5, p90: 19.0}__."
   ]
  },
  {
   "cell_type": "markdown",
   "metadata": {},
   "source": [
    "### __Question 7.Top #Nth longest P90 travel time Location for FHV__\n",
    "\n",
    "Prerequisites:\n",
    "\n",
    "- Create a staging model for FHV Data (2019), and DO NOT add a deduplication step, just filter out the entries where `where dispatching_base_num is not null`\n",
    "- Create a core model for FHV Data (`dim_fhv_trips.sql`) joining with `dim_zones`. Similar to what has been done [here](https://github.com/DataTalksClub/data-engineering-zoomcamp/blob/main/04-analytics-engineering/taxi_rides_ny/models/staging/stg_green_tripdata.sql)\n",
    "- Add some new dimensions `year` (e.g.: 2019) and `month` (e.g.: 1, 2, ..., 12), based on `pickup_datetime`, to the core model to facilitate filtering for your queries\n",
    "\n",
    "Now: \n",
    "\n",
    "1. Create a new model `fct_fhv_monthly_zone_traveltime_p90.sql`\n",
    "2. For each record in `dim_fhv_trips.sql`, compute the [timediff](https://cloud.google.com/bigquery/docs/reference/standard-sql/time_functions#time_diff), in seconds between dropoff_datetime and pickup_datetime - we'll call it `trip_duration` for this exercise\n",
    "Compute the continous `p90` of `trip_duration` partitioning by year, month, pickup_location_id, and dropoff_location_id\n",
    "\n",
    "For the Trips that respectively started from `Newark Airport`, `SoHo`, and `Yorkville East`, in November 2019, what are dropoff_zones with the 2nd longest p90 trip_duration ?\n",
    "\n",
    "- East Village, Chinatown, Garment District\n",
    "- East Village, Park Slope, Clinton East\n",
    "- East Village, Saint Albans, Howard Beach\n",
    "- East Village, Rosedale, Bath Beach\n",
    "- East Village, Yorkville East, Greenpoint\n"
   ]
  },
  {
   "cell_type": "markdown",
   "metadata": {},
   "source": [
    "### Answer:\n",
    "The data is stored in a __GCP Bucket__ for the external table."
   ]
  }
 ],
 "metadata": {
  "kernelspec": {
   "display_name": "base",
   "language": "python",
   "name": "python3"
  },
  "language_info": {
   "codemirror_mode": {
    "name": "ipython",
    "version": 3
   },
   "file_extension": ".py",
   "mimetype": "text/x-python",
   "name": "python",
   "nbconvert_exporter": "python",
   "pygments_lexer": "ipython3",
   "version": "3.12.7"
  }
 },
 "nbformat": 4,
 "nbformat_minor": 2
}
