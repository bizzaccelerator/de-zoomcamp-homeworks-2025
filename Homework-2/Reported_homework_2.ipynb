{
 "cells": [
  {
   "cell_type": "markdown",
   "metadata": {},
   "source": [
    "Hey, I'm Jobert Gutierrez and hereafter you'll find the logic and code used to answer the second assignment in the program Data Engineering Zoomcamp offered by Data Talks Club."
   ]
  },
  {
   "cell_type": "markdown",
   "metadata": {},
   "source": [
    "# __Module 2 Homework: Orchestration__\n",
    "\n",
    "ATTENTION: At the end of the submission form, you will be required to include a link to your GitHub repository or other public code-hosting site. This repository should contain your code for solving the homework. If your solution includes code that is not in file format, please include these directly in the README file of your repository.\n",
    "\n",
    "> In case you don't get one option exactly, select the closest one\n",
    "\n",
    "For the homework, we'll be working with the green taxi dataset located here:\n",
    "\n",
    "`https://github.com/DataTalksClub/nyc-tlc-data/releases/tag/green/download`\n",
    "\n",
    "To get a wget-able link, use this prefix (note that the link itself gives 404):\n",
    "\n",
    "`https://github.com/DataTalksClub/nyc-tlc-data/releases/download/green/`\n",
    "\n",
    "__Quiz Questions__\n",
    "\n",
    "Complete the Quiz shown below. It’s a set of 6 multiple-choice questions to test your understanding of workflow orchestration, Kestra and ETL pipelines for data lakes and warehouses.\n",
    "\n",
    "### __Question 1.__\n",
    "\n",
    "Within the execution for `Yellow` Taxi data for the year `2020` and month `12`: what is the uncompressed file size (i.e. the output file `yellow_tripdata_2020-12.csv` of the `extract` task)?\n",
    "\n",
    "--128.3 MB <br>\n",
    "--134.5 MB <br>\n",
    "--364.7 MB <br>\n",
    "--692.6 MB <br>\n"
   ]
  },
  {
   "cell_type": "markdown",
   "metadata": {},
   "source": [
    "### Answer: \n",
    "In kestra, I used the file *extract_taxi_data.yaml*. By calling the url as _https://github.com/DataTalksClub/nyc-tlc-data/releases/download/yellow/yellow_tripdata_2020-12.csv.gz_, the output file unzipped is __128.3 Mb__ as shown in the image below."
   ]
  },
  {
   "cell_type": "markdown",
   "metadata": {},
   "source": [
    "![q1](Q1.png \"Solution 1\")"
   ]
  },
  {
   "cell_type": "markdown",
   "metadata": {},
   "source": [
    "### __Question 2.__\n",
    "What is the rendered value of the variable `file` when the inputs `taxi` is set to `green`, `year` is set to `2020`, and `month` is set to `04` during execution?\n",
    "\n",
    "-- {{inputs.taxi}}_tripdata_{{inputs.year}}-{{inputs.month}}.csv <br>\n",
    "-- green_tripdata_2020-04.csv <br>\n",
    "-- green_tripdata_04_2020.csv <br>\n",
    "-- green_tripdata_2020.csv <br>\n"
   ]
  },
  {
   "cell_type": "markdown",
   "metadata": {},
   "source": [
    "### Answer: \n",
    "To answer this question I used the file \"02_postgres_taxi.yaml\". By using the mentioned script for april 2020, the rendered file variable for green taxi is __green_tripdata_2020-04.csv__ as shown here below:"
   ]
  },
  {
   "cell_type": "markdown",
   "metadata": {},
   "source": [
    "![Q2](Q2.png \"Solution 2\")"
   ]
  },
  {
   "cell_type": "markdown",
   "metadata": {},
   "source": [
    "### __Question 3.__\n",
    "How many rows are there for the `Yellow` Taxi data for all CSV files in the year 2020?\n",
    "\n",
    "- 13,537.299 <br>\n",
    "- 24,648,499 <br>\n",
    "- 18,324,219 <br>\n",
    "- 29,430,127 <br>\n"
   ]
  },
  {
   "cell_type": "markdown",
   "metadata": {},
   "source": [
    "### Answer:\n",
    "Using the same file \"02_postgres_taxi.yaml\", I collected in postgres all the yellow data taxi rows for 2020. From postgres, I used the following query to count the number of rows:"
   ]
  },
  {
   "cell_type": "code",
   "execution_count": null,
   "metadata": {},
   "outputs": [],
   "source": [
    "select count(1) from yellow_tripdata\n",
    "where \n",
    "\tdate(tpep_pickup_datetime)>='2020-01-01'\n",
    "\tand\n",
    "\tdate(tpep_pickup_datetime)<'2021-01-01'"
   ]
  },
  {
   "cell_type": "markdown",
   "metadata": {},
   "source": [
    "Then identifying 22.967.100 rows for yellow taxis in 2020. The closes answer is __24.648.499 rows__"
   ]
  },
  {
   "cell_type": "markdown",
   "metadata": {},
   "source": [
    "### __Question 4.__\n",
    "How many rows are there for the Green Taxi data for all CSV files in the year 2020?.\n",
    "\n",
    "- 5,327,301 <br>\n",
    "- 936,199 <br>\n",
    "- 1,734,051 <br>\n",
    "- 1,342,034"
   ]
  },
  {
   "cell_type": "markdown",
   "metadata": {},
   "source": [
    "### Answer:\n",
    "I proceed with the same logic as before. I wrote the code as follows:"
   ]
  },
  {
   "cell_type": "code",
   "execution_count": null,
   "metadata": {},
   "outputs": [],
   "source": [
    "select count(1) from green_tripdata\n",
    "where \n",
    "\tdate(lpep_pickup_datetime)>='2020-01-01'\n",
    "\tand\n",
    "\tdate(lpep_pickup_datetime)<'2021-01-01'\t"
   ]
  },
  {
   "cell_type": "markdown",
   "metadata": {},
   "source": [
    "Then identifying 1.733.998 rows for green taxis in 2020. The closes answer is __1.734.051 rows__"
   ]
  },
  {
   "cell_type": "markdown",
   "metadata": {},
   "source": [
    "### __Question 5.__\n",
    "How many rows are there for the Yellow Taxi data for the March 2021 CSV file?\n",
    "\n",
    "- 1,428,092 <br>\n",
    "- 706,911 <br>\n",
    "- 1,925,152 <br>\n",
    "- 2,561,031\n"
   ]
  },
  {
   "cell_type": "markdown",
   "metadata": {},
   "source": [
    "### Answer:\n",
    "In kestra, I used the file *extract_taxi_data.yaml* and the file *test.y* By calling the url as _https://github.com/DataTalksClub/nyc-tlc-data/releases/download/yellow/yellow_tripdata_2021-03.csv.gz_, the number of rows in march 2021 is __1.925.152 rows__ as shown in the image below."
   ]
  },
  {
   "cell_type": "markdown",
   "metadata": {},
   "source": [
    "![Q3](Q3.png \"Solution 3\")"
   ]
  },
  {
   "cell_type": "markdown",
   "metadata": {},
   "source": [
    "### __Question 6.__\n",
    "How would you configure the timezone to New York in a Schedule trigger?\n",
    "\n",
    "- Add a `timezone` property set to `EST` in the `Schedule` trigger configuration <br>\n",
    "- Add a `timezone` property set to `America/New_York` in the `Schedule` trigger configuration <br>\n",
    "- Add a `timezone` property set to `UTC-5` in the `Schedule` trigger configuration <br>\n",
    "- Add a `location` property set to `New_York` in the `Schedule` trigger configuration\n"
   ]
  },
  {
   "cell_type": "markdown",
   "metadata": {},
   "source": [
    "### Answer:\n",
    "We configure one trigger as:"
   ]
  },
  {
   "cell_type": "code",
   "execution_count": null,
   "metadata": {},
   "outputs": [],
   "source": [
    "triggers:\n",
    "  - id: name_trigger\n",
    "    type: io.kestra.plugin.core.trigger.Schedule\n",
    "    cron: \"@daily\"\n",
    "    timezone: America/New_York"
   ]
  },
  {
   "cell_type": "markdown",
   "metadata": {},
   "source": [
    "The option that actually reflects the procedure is __Add a `timezone` property set to `America/New_York` in the `Schedule` trigger configuration__"
   ]
  }
 ],
 "metadata": {
  "kernelspec": {
   "display_name": "base",
   "language": "python",
   "name": "python3"
  },
  "language_info": {
   "codemirror_mode": {
    "name": "ipython",
    "version": 3
   },
   "file_extension": ".py",
   "mimetype": "text/x-python",
   "name": "python",
   "nbconvert_exporter": "python",
   "pygments_lexer": "ipython3",
   "version": "3.12.7"
  }
 },
 "nbformat": 4,
 "nbformat_minor": 2
}
